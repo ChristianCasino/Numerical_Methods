{
  "nbformat": 4,
  "nbformat_minor": 0,
  "metadata": {
    "colab": {
      "name": "201911462_Numerical_Methods_Activity_1.ipynb",
      "provenance": [],
      "include_colab_link": true
    },
    "kernelspec": {
      "name": "python3",
      "display_name": "Python 3"
    },
    "language_info": {
      "name": "python"
    }
  },
  "cells": [
    {
      "cell_type": "markdown",
      "metadata": {
        "id": "view-in-github",
        "colab_type": "text"
      },
      "source": [
        "<a href=\"https://colab.research.google.com/github/ChristianCasino/Numerical_Methods/blob/main/201911462_Numerical_Methods_Activity_1.ipynb\" target=\"_parent\"><img src=\"https://colab.research.google.com/assets/colab-badge.svg\" alt=\"Open In Colab\"/></a>"
      ]
    },
    {
      "cell_type": "code",
      "metadata": {
        "id": "szXjaMOXb1Ba"
      },
      "source": [
        "data = {}\n",
        "def register():\n",
        "        #Register\n",
        "        Student_ID = int(input(\"Enter the Student Number :\"))\n",
        "        Name = input(\"Enter the name :\")\n",
        "        Name_Full = Name.replace(' ', '_')\n",
        "        Course = input(\"Enter the course of {}  :\".format(Name))\n",
        "        Course_Full = Course.replace(' ', '_')\n",
        "        Prelim = float(input(\"Enter Prelim Grade: \"))\n",
        "        Midterm = float(input(\"Enter Midterm Grade: \"))\n",
        "        Final = float(input(\"Enter Final Grade: \"))\n",
        "        print(('#' * 27 )+ 'DATABASE' + ('#' * 27))\n",
        "        #Average\n",
        "        PG = Prelim * 0.3\n",
        "        MG = Midterm * 0.3\n",
        "        FG = Final * 0.4\n",
        "        Final_Average = PG + MG + FG\n",
        "        Final_Average_Round = round(Final_Average, 2)\n",
        "        #Results\n",
        "        Happy = ('\\U0001F600')\n",
        "        Laugh =('\\U0001F606')\n",
        "        Sad   =(\"\\U0001F62D\")\n",
        "        if Final_Average > 100:\n",
        "            print(\"grade cannot be over 100\")\n",
        "            quit()\n",
        "        elif Final_Average > 70 and Final_Average < 100:\n",
        "                result = Happy\n",
        "        elif Final_Average == 70:\n",
        "                result = Laugh\n",
        "        else:\n",
        "                result = Sad\n",
        "\n",
        "        #Split and string\n",
        "        Prelim_str = str(Prelim).split()\n",
        "        Midterm_str= str(Midterm).split()\n",
        "        Final_str  = str(Final).split()\n",
        "        Final_Average_str = str(Final_Average_Round).split()\n",
        "        Student_ID_str = str(Student_ID).split()\n",
        "        Name_Full_str = str(Name_Full).split()\n",
        "        Course_Full_str = str(Course_Full).split()\n",
        "\n",
        "        #Dict\n",
        "        Student_ID_key = Student_ID_str[0]\n",
        "        Name_key = Name_Full_str[0]\n",
        "        Course_key = Course_Full_str[0]\n",
        "        Prelim_key = Prelim_str[0]\n",
        "        Midterm_key = Midterm_str[0]\n",
        "        Final_key = Final_str[0]\n",
        "        Final_Average_key = Final_Average_str[0]\n",
        "        emoji_key = result[0]\n",
        "\n",
        "        data[\"1 : Student Number:       \" + Student_ID_key] = \\\n",
        "        {\n",
        "\n",
        "                2:\"Name:                 \" + Name_key.upper(),\n",
        "                3:\"Course:               \" + Course_key.upper(),\n",
        "                4:\"Prelim Grade:         \" + Prelim_key,\n",
        "                5:\"Midterm Grade:        \" + Midterm_key,\n",
        "                6:\"Final Grade:          \" + Final_key,\n",
        "                7:\"Final Average:        \" + Final_Average_key,\n",
        "                8:'Result:               ' + emoji_key,\n",
        "                0:'#' * 66\n",
        "\n",
        "        }\n",
        "        for tab in data:\n",
        "                print(tab)\n",
        "                for tabs in data[tab]:\n",
        "                        print(tabs, \":\", data[tab][tabs])\n",
        "        try_again()\n",
        "\n",
        "def try_again():\n",
        "        print('#' * 66)\n",
        "        answer = input('Do you want to calculate again?:Yes/No ')\n",
        "        print('#' * 66)\n",
        "        if answer == 'Yes'or answer == \"yes\" or answer == \"YES\":\n",
        "                register()\n",
        "        elif answer == \"No\" or answer == \"no\" or answer == \"NO\":\n",
        "                quit()\n",
        "\n",
        "register()"
      ],
      "execution_count": null,
      "outputs": []
    }
  ]
}