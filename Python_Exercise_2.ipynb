{
  "nbformat": 4,
  "nbformat_minor": 0,
  "metadata": {
    "colab": {
      "name": " Python Exercise 2.ipynb",
      "provenance": []
    },
    "kernelspec": {
      "name": "python3",
      "display_name": "Python 3"
    },
    "language_info": {
      "name": "python"
    }
  },
  "cells": [
    {
      "cell_type": "markdown",
      "metadata": {
        "id": "1aodFHp4hK2k"
      },
      "source": [
        "## **Matrix and Its Operations**"
      ]
    },
    {
      "cell_type": "code",
      "metadata": {
        "colab": {
          "base_uri": "https://localhost:8080/"
        },
        "id": "-koR_qXzhES_",
        "outputId": "a5d166d0-e66c-44bf-e1d6-deedbe83b374"
      },
      "source": [
        "import numpy as np\n",
        "#Matrix Given\n",
        "vectorA = np.array([[-5,0],[4,1]])\n",
        "vectorB = np.array([[6,-3],[2,3]])\n",
        "\n",
        "#Operations\n",
        "sum         = vectorA + vectorB\n",
        "difference1 = vectorB - vectorA\n",
        "difference2 = vectorA - vectorB\n",
        "\n",
        "#Output\n",
        "print(64*'#')\n",
        "print('The sum of vectorA + VectorB is equal to:\\n',sum)\n",
        "print(64*'#')\n",
        "print('The difference of vectorB + VectorA is equal to:\\n',difference1)\n",
        "print(64*'#')\n",
        "print('The difference of vectorA + VectorB is equal to:\\n',difference2)\n",
        "print(64*'#')"
      ],
      "execution_count": 1,
      "outputs": [
        {
          "output_type": "stream",
          "name": "stdout",
          "text": [
            "################################################################\n",
            "The sum of vectorA + VectorB is equal to:\n",
            " [[ 1 -3]\n",
            " [ 6  4]]\n",
            "################################################################\n",
            "The difference of vectorB + VectorA is equal to:\n",
            " [[11 -3]\n",
            " [-2  2]]\n",
            "################################################################\n",
            "The difference of vectorA + VectorB is equal to:\n",
            " [[-11   3]\n",
            " [  2  -2]]\n",
            "################################################################\n"
          ]
        }
      ]
    }
  ]
}